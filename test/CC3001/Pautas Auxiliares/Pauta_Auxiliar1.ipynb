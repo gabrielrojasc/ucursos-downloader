{
  "nbformat": 4,
  "nbformat_minor": 0,
  "metadata": {
    "colab": {
      "name": "Pauta_Auxiliar1 (1).ipynb",
      "provenance": []
    },
    "kernelspec": {
      "name": "python3",
      "display_name": "Python 3"
    }
  },
  "cells": [
    {
      "cell_type": "markdown",
      "metadata": {
        "id": "6P9ThI56gwZc"
      },
      "source": [
        "#Auxiliar 1 - Recuerdo de Python y arreglos de Numpy\n",
        "##Profesores: Patricio Poblete, Nelson Baloian\n",
        "###Auxiliares: Gabriel Norambuena, Gabriel Flores\n",
        "\n",
        "Bienvenidos al curso CC3001 Algoritmos y estructuras de datos. El curso ser\u0013a desarrollado en\n",
        "Python 3, que es el lenguaje que se utiliza en el curso desde el semestre pasado. Para las tareas, se\n",
        "utilizarán Google Colab y Jupyter Notebook."
      ]
    },
    {
      "cell_type": "markdown",
      "metadata": {
        "id": "T4pp3QmnhWJu"
      },
      "source": [
        "#P1. Pokémon\n",
        "El objetivo de esta pregunta es construir la clase Pokémon, para así recordar cómo implementar\n",
        "una clase en Python. Para esto, crearemos primero el constructor de dicha clase y luego\n",
        "definiremos métodos que le permitan a nuestros Pokémon efectuar operaciones."
      ]
    },
    {
      "cell_type": "markdown",
      "metadata": {
        "id": "HWTlX1eKhfXa"
      },
      "source": [
        "##A\n",
        "Para el constructor, se necesita que cada Pokémon tenga los siguientes atributos:\n",
        "\n",
        "*   Un string con su nombre.\n",
        "*   Un entero con sus puntos de vida o HP.\n",
        "*   Un entero que representa su número en la Pokédex.\n",
        "\n",
        "\n",
        "\n"
      ]
    },
    {
      "cell_type": "markdown",
      "metadata": {
        "id": "6EIpxobnhnD_"
      },
      "source": [
        "##B\n",
        "Por otra parte, todo **Pokémon** debe tener métodos que le permitan efectuar las siguientes\n",
        "operaciones:\n",
        "* Atacar a cualquier Pokémon. El ataque que se produce al Pokémon objetivo es de la tercera parte, redondeada hacia arriba, del Pok\u0013emon atacante.\n",
        "* Recibir un ataque de un Pokémon enemigo.\n",
        "* Responder, en cualquier momento, a la pregunta de si sigue vivo o no."
      ]
    },
    {
      "cell_type": "code",
      "metadata": {
        "id": "RLXA_V3tbJ-_"
      },
      "source": [
        "class Pokemon:\n",
        "  def __init__(self, nombre, hp, pokedex):\n",
        "    self.nombre = nombre\n",
        "    self.hp = hp\n",
        "    self.pokedex = pokedex\n",
        "\n",
        "  def ataque(self, otro):\n",
        "    dano = self.hp//3\n",
        "    otro.recibeDano(dano)\n",
        "\n",
        "  def recibeDano(self, dano):\n",
        "    self.hp -= dano\n",
        "  \n",
        "  def estaVivo(self):\n",
        "    return self.hp > 0"
      ],
      "execution_count": null,
      "outputs": []
    },
    {
      "cell_type": "markdown",
      "metadata": {
        "id": "hJJAW0Z9igZH"
      },
      "source": [
        "##Extra: Pelea Pokemon!\n",
        "Genere una pelea pokémon con sus dos pokemones favoritos"
      ]
    },
    {
      "cell_type": "code",
      "metadata": {
        "id": "C-LmCnk7b_pq",
        "colab": {
          "base_uri": "https://localhost:8080/"
        },
        "outputId": "df812df5-201b-4239-c3a8-de14c9a90f30"
      },
      "source": [
        "import random\n",
        "#Pokemon 1\n",
        "hp = random.randint(1, 1501)\n",
        "print(hp)\n",
        "magikarp = Pokemon(\"Magikarp\", hp, 129)"
      ],
      "execution_count": null,
      "outputs": [
        {
          "output_type": "stream",
          "text": [
            "474\n"
          ],
          "name": "stdout"
        }
      ]
    },
    {
      "cell_type": "code",
      "metadata": {
        "id": "iTXvvvbKB5fB",
        "colab": {
          "base_uri": "https://localhost:8080/"
        },
        "outputId": "d392dc45-3b19-4d75-a7df-cbcfab046771"
      },
      "source": [
        "#Pokemon 2\n",
        "hp = random.randint(1,1501)\n",
        "print(hp)\n",
        "metapod = Pokemon(\"Metapod\", hp, 11)"
      ],
      "execution_count": null,
      "outputs": [
        {
          "output_type": "stream",
          "text": [
            "1122\n"
          ],
          "name": "stdout"
        }
      ]
    },
    {
      "cell_type": "code",
      "metadata": {
        "id": "fQ_EfRKFCAlx",
        "colab": {
          "base_uri": "https://localhost:8080/"
        },
        "outputId": "0bb58513-5dff-4c31-f7f2-d98d0b513d0b"
      },
      "source": [
        "#Pelea pokemon\n",
        "counter = 1\n",
        "while magikarp.estaVivo() and metapod.estaVivo():\n",
        "  print(\"Ronda \", counter)\n",
        "  magikarp.ataque(metapod)\n",
        "  print(\"metapod tiene \", metapod.hp, \" vida\")\n",
        "  if not metapod.estaVivo():\n",
        "    break\n",
        "  metapod.ataque(magikarp)\n",
        "  print(\"magikarp tiene \", magikarp.hp, \" vida\")\n",
        "  counter += 1\n",
        "\n",
        "if magikarp.estaVivo():\n",
        "  print(\"Magikarp gano la batalla\")\n",
        "else:\n",
        "  print(\"Metapod gano la batalla\")\n"
      ],
      "execution_count": null,
      "outputs": [
        {
          "output_type": "stream",
          "text": [
            "Ronda  1\n",
            "metapod tiene  964  vida\n",
            "magikarp tiene  153  vida\n",
            "Ronda  2\n",
            "metapod tiene  913  vida\n",
            "magikarp tiene  -151  vida\n",
            "Metapod gano la batalla\n"
          ],
          "name": "stdout"
        }
      ]
    }
  ]
}