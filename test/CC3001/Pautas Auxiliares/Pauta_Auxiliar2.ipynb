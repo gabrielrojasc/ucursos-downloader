{
  "nbformat": 4,
  "nbformat_minor": 0,
  "metadata": {
    "colab": {
      "name": "Pauta_Auxiliar2-21.ipynb",
      "provenance": []
    },
    "kernelspec": {
      "name": "python3",
      "display_name": "Python 3"
    }
  },
  "cells": [
    {
      "cell_type": "markdown",
      "metadata": {
        "id": "6P9ThI56gwZc"
      },
      "source": [
        "#**Auxiliar 2 - Programas recursivos y notación Big-O**\n",
        "##Profesores: Patricio Poblete, Nelson Baloian\n",
        "###Auxiliares: Gabriel Flores, Gabriel Norambuena, Rodrigo Llull, Lucas Oyarzún\n"
      ]
    },
    {
      "cell_type": "markdown",
      "metadata": {
        "id": "yIyG6qaJkj0i"
      },
      "source": [
        "#P1. Recursión\n",
        "En  esta  pregunta  recordaremos  lo  que  es  la  recursión,  contenido  que  se  vio  en  el  curso  de Introducción a la Programación.  Definiremos un  árbol de búsqueda binaria de números en base a nodos.  Para ello, necesitamos la clase *Nodo*, que contenga su número en un atributo llamado **info**, y una referencia a los hijos izquierdo y derecho, en atributos llamados **izq** y **der**, respectivamente."
      ]
    },
    {
      "cell_type": "code",
      "metadata": {
        "id": "dS4pDwyEk5UX"
      },
      "source": [
        "class Nodo:\n",
        "  def __init__(self, info, izq=None, der=None):\n",
        "    self.info = info\n",
        "    self.izq = izq\n",
        "    self.der = der"
      ],
      "execution_count": null,
      "outputs": []
    },
    {
      "cell_type": "markdown",
      "metadata": {
        "id": "hiZv-9XHk81B"
      },
      "source": [
        "Una vez definida Nodo, procedemos de la siguiente forma:\n",
        "* \u000fCreamos el nodo con valor 1, sin hijos.\n",
        "*\u000f Continuamos con el 3, sin hijos.\n",
        "*\u000f Creamos el 2, con hijos el 1 y el 3.\n",
        "*\u000f Seguimos con el 6, sin hijos.\n",
        "*\u000f Ahora con el 5, con hijo derecho el 6 e hijo izquierdo None.\n",
        "*\u000f Terminamos creando el 4, con hijos el 2 y el 5. Este nodo ser\u0013a llamado raíz."
      ]
    },
    {
      "cell_type": "code",
      "metadata": {
        "id": "snWVpIXFlMND"
      },
      "source": [
        "nodo1 = Nodo(1)\n",
        "nodo3 = Nodo(3)\n",
        "nodo2 = Nodo(2, nodo1, nodo3)\n",
        "nodo6 = Nodo(6)\n",
        "nodo5 = Nodo(5, der=nodo6)\n",
        "raiz = Nodo(4, nodo2, nodo5)"
      ],
      "execution_count": null,
      "outputs": []
    },
    {
      "cell_type": "markdown",
      "metadata": {
        "id": "GTq399U9WXre"
      },
      "source": [
        "Utilice la librería *AED-Utilities* para dibujar el árbol, y verificar que tiene la forma deseada. Para ello:\n",
        "\n",
        "1.   Cree una instancia de una clase Arbol (que tiene solo la raiz como variable miembro), entregándole como argumento el nodo con valor 4 de la sección anterior.\n",
        "2.   Cree una instancia de la clase BinaryTreeDrawer, con los argumentos fieldData=“info”,fieldLeft=“izq” y fieldRight=“der”.\n",
        "3.   Dibuje el árbol utilizando el BinaryTreeDrawer creado."
      ]
    },
    {
      "cell_type": "code",
      "metadata": {
        "colab": {
          "base_uri": "https://localhost:8080/",
          "height": 299
        },
        "id": "oPI8DOJRB2Oy",
        "outputId": "60a31ce1-ec58-40f2-ae71-1b694909f2bf"
      },
      "source": [
        "!pip install aed-utilities\n",
        "import aed_utilities as aed\n",
        "class Arbol:\n",
        "  def __init__(self, raiz):\n",
        "    self.raiz = raiz\n",
        "arbol = Arbol(raiz)\n",
        "BTdraw = aed.BinaryTreeDrawer(fieldData=\"info\", fieldLeft=\"izq\", fieldRight = \"der\")\n",
        "BTdraw.draw_tree(arbol, \"raiz\")"
      ],
      "execution_count": null,
      "outputs": [
        {
          "output_type": "stream",
          "text": [
            "Requirement already satisfied: aed-utilities in /usr/local/lib/python3.7/dist-packages (0.4.1)\n",
            "Requirement already satisfied: beautifulsoup4 in /usr/local/lib/python3.7/dist-packages (from aed-utilities) (4.6.3)\n",
            "Requirement already satisfied: validators in /usr/local/lib/python3.7/dist-packages (from aed-utilities) (0.18.2)\n",
            "Requirement already satisfied: six>=1.4.0 in /usr/local/lib/python3.7/dist-packages (from validators->aed-utilities) (1.15.0)\n",
            "Requirement already satisfied: decorator>=3.4.0 in /usr/local/lib/python3.7/dist-packages (from validators->aed-utilities) (4.4.2)\n"
          ],
          "name": "stdout"
        },
        {
          "output_type": "display_data",
          "data": {
            "text/plain": [
              "<IPython.core.display.SVG object>"
            ],
            "image/svg+xml": "<svg height=\"130pt\" viewBox=\"0.00 0.00 228.80 130.40\" width=\"229pt\" xmlns=\"http://www.w3.org/2000/svg\" xmlns:xlink=\"http://www.w3.org/1999/xlink\">\n<g class=\"graph\" id=\"graph0\" transform=\"scale(1 1) rotate(0) translate(4 126.4)\">\n<title>Arbol</title>\n<polygon fill=\"#ffffff\" points=\"-4,4 -4,-126.4 224.8,-126.4 224.8,4 -4,4\" stroke=\"transparent\"/>\n<!-- node0 -->\n<g class=\"node\" id=\"node1\">\n<title>node0</title>\n<ellipse cx=\"18\" cy=\"-18\" fill=\"none\" rx=\"18\" ry=\"18\" stroke=\"#000000\"/>\n<text fill=\"#000000\" font-family=\"Times,serif\" font-size=\"14.00\" text-anchor=\"middle\" x=\"18\" y=\"-14.3\">1</text>\n</g>\n<!-- node2 -->\n<g class=\"node\" id=\"node2\">\n<title>node2</title>\n<ellipse cx=\"51.6\" cy=\"-61.2\" fill=\"none\" rx=\"18\" ry=\"18\" stroke=\"#000000\"/>\n<text fill=\"#000000\" font-family=\"Times,serif\" font-size=\"14.00\" text-anchor=\"middle\" x=\"51.6\" y=\"-57.5\">2</text>\n</g>\n<!-- node2&#45;&#45;node0 -->\n<g class=\"edge\" id=\"edge2\">\n<title>node2--node0</title>\n<path d=\"M40.2246,-46.5745C36.6454,-41.9726 32.6982,-36.8977 29.1358,-32.3175\" fill=\"none\" stroke=\"#000000\"/>\n</g>\n<!-- node1 -->\n<g class=\"node\" id=\"node3\">\n<title>node1</title>\n<ellipse cx=\"85.2\" cy=\"-18\" fill=\"none\" rx=\"18\" ry=\"18\" stroke=\"#000000\"/>\n<text fill=\"#000000\" font-family=\"Times,serif\" font-size=\"14.00\" text-anchor=\"middle\" x=\"85.2\" y=\"-14.3\">3</text>\n</g>\n<!-- node2&#45;&#45;node1 -->\n<g class=\"edge\" id=\"edge3\">\n<title>node2--node1</title>\n<path d=\"M62.9754,-46.5745C66.5546,-41.9726 70.5018,-36.8977 74.0642,-32.3175\" fill=\"none\" stroke=\"#000000\"/>\n</g>\n<!-- node5 -->\n<g class=\"node\" id=\"node4\">\n<title>node5</title>\n<ellipse cx=\"118.8\" cy=\"-104.4\" fill=\"none\" rx=\"18\" ry=\"18\" stroke=\"#000000\"/>\n<text fill=\"#000000\" font-family=\"Times,serif\" font-size=\"14.00\" text-anchor=\"middle\" x=\"118.8\" y=\"-100.7\">4</text>\n</g>\n<!-- node5&#45;&#45;node2 -->\n<g class=\"edge\" id=\"edge1\">\n<title>node5--node2</title>\n<path d=\"M103.5513,-94.5973C92.5536,-87.5273 77.7722,-78.025 66.7884,-70.964\" fill=\"none\" stroke=\"#000000\"/>\n</g>\n<!-- node4 -->\n<g class=\"node\" id=\"node5\">\n<title>node4</title>\n<ellipse cx=\"169.2\" cy=\"-61.2\" fill=\"none\" rx=\"18\" ry=\"18\" stroke=\"#000000\"/>\n<text fill=\"#000000\" font-family=\"Times,serif\" font-size=\"14.00\" text-anchor=\"middle\" x=\"169.2\" y=\"-57.5\">5</text>\n</g>\n<!-- node5&#45;&#45;node4 -->\n<g class=\"edge\" id=\"edge4\">\n<title>node5--node4</title>\n<path d=\"M132.572,-92.5954C139.6835,-86.4998 148.3355,-79.0838 155.4446,-72.9903\" fill=\"none\" stroke=\"#000000\"/>\n</g>\n<!-- node3 -->\n<g class=\"node\" id=\"node6\">\n<title>node3</title>\n<ellipse cx=\"202.8\" cy=\"-18\" fill=\"none\" rx=\"18\" ry=\"18\" stroke=\"#000000\"/>\n<text fill=\"#000000\" font-family=\"Times,serif\" font-size=\"14.00\" text-anchor=\"middle\" x=\"202.8\" y=\"-14.3\">6</text>\n</g>\n<!-- node4&#45;&#45;node3 -->\n<g class=\"edge\" id=\"edge5\">\n<title>node4--node3</title>\n<path d=\"M180.5754,-46.5745C184.1546,-41.9726 188.1018,-36.8977 191.6642,-32.3175\" fill=\"none\" stroke=\"#000000\"/>\n</g>\n</g>\n</svg>"
          },
          "metadata": {
            "tags": []
          }
        }
      ]
    },
    {
      "cell_type": "markdown",
      "metadata": {
        "id": "yTfJ-lIhW7IS"
      },
      "source": [
        "Finalmente, se le pide definir una función que recorra los nodos recursivamente, imprimiendo sus  valores  en  orden  ascendente.   Por  ahora  no  necesita  trabajar  con  el  arbol  creado  para dibujar."
      ]
    },
    {
      "cell_type": "code",
      "metadata": {
        "id": "5p5dFXxmOX_5"
      },
      "source": [
        "def imprimirArbol(nodo):\n",
        "  if nodo == None:\n",
        "    return\n",
        "  imprimirArbol(nodo.izq)\n",
        "  print(nodo.info)\n",
        "  imprimirArbol(nodo.der)"
      ],
      "execution_count": null,
      "outputs": []
    },
    {
      "cell_type": "code",
      "metadata": {
        "id": "OCFX4iv5OvQB",
        "colab": {
          "base_uri": "https://localhost:8080/"
        },
        "outputId": "26cbed11-c430-4e66-d4c2-791d540d83ef"
      },
      "source": [
        "imprimirArbol(raiz)"
      ],
      "execution_count": null,
      "outputs": [
        {
          "output_type": "stream",
          "text": [
            "1\n",
            "2\n",
            "3\n",
            "4\n",
            "5\n",
            "6\n"
          ],
          "name": "stdout"
        }
      ]
    },
    {
      "cell_type": "markdown",
      "metadata": {
        "id": "TpscQAVIlGMj"
      },
      "source": [
        "### P2) Motivación de cómo programar la solución"
      ]
    },
    {
      "cell_type": "markdown",
      "metadata": {
        "id": "UsnKLCDdlGMv"
      },
      "source": [
        "En la función `maximo`se observa el patrón típico para explorar elementos que cumplan una condición de \"máximo\" o \"mejor\":\n",
        "- Iniciamos un estado con el peor caso posible (`este_maximo = float('-inf')` o `este_maximo = float('-inf')`). Éste será el valor a superar.\n",
        "- Recorremos nuestra entrada (`for x in lista`)\n",
        "- Comparamos nuestro estado con cada elemento recorrido. Si alguien le gana a nuestro estado, nos quedamos con el nuevo estado."
      ]
    },
    {
      "cell_type": "code",
      "metadata": {
        "id": "sxGGY3HzlGMw"
      },
      "source": [
        "def maximo(lista):\n",
        "    '''\n",
        "    Retorna el máximo elemento de una lista.\n",
        "    '''\n",
        "    este_maximo = float('-inf') # si la lista puede tener negativos\n",
        "    for x in lista:\n",
        "        if x > este_maximo:\n",
        "            este_maximo = x\n",
        "    return este_maximo"
      ],
      "execution_count": 1,
      "outputs": []
    },
    {
      "cell_type": "markdown",
      "metadata": {
        "id": "IrQfk8hslGMx"
      },
      "source": [
        "Si nos solicitan más información asociada al valor, iniciamos tantas variables como requeramos (`indice_maximo = None`). Esta vez, cuando el elemento probado le gane a nuestro estado (`if x > este_maximo`) actualizamos todas las variables asociadas."
      ]
    },
    {
      "cell_type": "code",
      "metadata": {
        "id": "PK-oR9nflGMy"
      },
      "source": [
        "def maximo_indice(lista):\n",
        "    '''\n",
        "    Retorna el máximo elemento de una lista, y el índice de su posición dentro de la lista.\n",
        "    '''\n",
        "    este_maximo = float('-inf')\n",
        "    indice_maximo = None\n",
        "    for indice, x in enumerate(lista):\n",
        "        if x > este_maximo:\n",
        "            este_maximo = x\n",
        "            indice_maximo = indice\n",
        "    return este_maximo, indice"
      ],
      "execution_count": 2,
      "outputs": []
    },
    {
      "cell_type": "markdown",
      "metadata": {
        "id": "nwcOjIFjlGMz"
      },
      "source": [
        "### Algoritmo $O(n^2)$ (todos los subarreglos posibles)"
      ]
    },
    {
      "cell_type": "code",
      "metadata": {
        "id": "doLdldsjlGMz"
      },
      "source": [
        "def segmentoMaximoQ(arreglo):\n",
        "    max_sum = 0\n",
        "    max_i, max_j = 0, -1\n",
        "    for i in range(len(arreglo)):\n",
        "        subsuma = 0\n",
        "        for j in range(i, len(arreglo)):\n",
        "            subsuma += arreglo[j]\n",
        "            #print(f'i: {i}, j: {j}, arreglo: {arreglo[i:j]}, suma: {subsuma}')\n",
        "            if subsuma > max_sum: # si este subarreglo es el maximo\n",
        "                max_sum = subsuma\n",
        "                max_i, max_j = i, j\n",
        "    return max_sum, max_i, max_j"
      ],
      "execution_count": 3,
      "outputs": []
    },
    {
      "cell_type": "markdown",
      "metadata": {
        "id": "JHl8bNVblGMz"
      },
      "source": [
        "### Algoritmo $O(n \\log(n))$ (*dividir para reinar*)"
      ]
    },
    {
      "cell_type": "markdown",
      "metadata": {
        "id": "4knmTep2lGM0"
      },
      "source": [
        "Este algoritmo divide recursivamente el problema en subproblemas: calcula el subarreglo de suma máxima de la mitad izquierda y de la mitad derecha por separado. Pero como también puede haber un mejor subarreglo que cruce desde la mitad izquierda a la mitad derecha, hay que revisar este caso cada vez. Esto lo realiza la función `maximoCruzado`."
      ]
    },
    {
      "cell_type": "code",
      "metadata": {
        "id": "AdLl-r_WlGM0"
      },
      "source": [
        "def maximoCruzado(arreglo, inicio, mitad, fin):\n",
        "    # mitad derecha\n",
        "    max_sum_der = 0\n",
        "    cum_sum_der = 0\n",
        "    max_j = mitad\n",
        "    # Iteramos desde la mitad hacia la derecha\n",
        "    for j in range(mitad+1, fin): \n",
        "        cum_sum_der += arreglo[j]\n",
        "        if cum_sum_der  > max_sum_der:\n",
        "            max_sum_der = cum_sum_der\n",
        "            max_j = j\n",
        "    # mitad izquierda\n",
        "    max_sum_izq = 0\n",
        "    cum_sum_izq = 0\n",
        "    max_i = mitad\n",
        "    # Iteramos desde la mitad hacia la izquierda\n",
        "    for i in range(mitad, inicio-1, -1):\n",
        "        cum_sum_izq += arreglo[i]\n",
        "        if cum_sum_izq > max_sum_izq:\n",
        "            max_sum_izq = cum_sum_izq \n",
        "            max_i = i\n",
        "    # suma (de ambas mitades), izq, der\n",
        "    return max_sum_izq+max_sum_der, max_i, max_j"
      ],
      "execution_count": 4,
      "outputs": []
    },
    {
      "cell_type": "markdown",
      "metadata": {
        "id": "6D07CScSlGM0"
      },
      "source": [
        "Función principal. Divide el arreglo en dos mitades, obtiene la solución para cada mitad, y revisa si es que existe una solución que esté solapada entre las dos mitades (llamando a `maximoCruzado`)."
      ]
    },
    {
      "cell_type": "code",
      "metadata": {
        "id": "tupH4KydlGM1"
      },
      "source": [
        "def segmentoMaximoD(arreglo, inicio, fin):\n",
        "    # Caso base: el arreglo tiene sólo un elemento\n",
        "    if fin - inicio == 1:\n",
        "        # Si el elemento es positivo, dicho elemento es su suma máxima.\n",
        "        # Pero si es negativo, nos conviene más no considerarlo y retornar una lista vacía (que suma 0).\n",
        "        if arreglo[0] > 0:\n",
        "            return arreglo[0], 0, 0\n",
        "        return 0, 0, -1\n",
        "    # Caso recursivo. Dividimos el arreglo por la mitad.\n",
        "    mitad = inicio + int((fin-inicio)/2)\n",
        "    suma_izq, i_izq, j_izq = segmentoMaximoD(arreglo, inicio, mitad)        # Mitad izquierda\n",
        "    suma_der, i_der, j_der = segmentoMaximoD(arreglo, mitad, fin)            # Mitad derecha\n",
        "    suma_cruz, i_cruz, j_cruz = maximoCruzado(arreglo, inicio, mitad, fin)   # Subarreglo cruzado (toca la mitad)\n",
        "    # Comparamos los resultados, y entregamos el mejor de cada caso.\n",
        "    if suma_izq >= max(suma_der, suma_cruz):\n",
        "        return suma_izq, i_izq, j_izq\n",
        "    if suma_cruz >= max(suma_izq, suma_der):\n",
        "        return suma_cruz, i_cruz, j_cruz\n",
        "    return suma_der, i_der, j_der"
      ],
      "execution_count": 5,
      "outputs": []
    },
    {
      "cell_type": "markdown",
      "metadata": {
        "id": "nnGgF7nXlGM1"
      },
      "source": [
        "### Algoritmo $O(n)$ (Kadane)"
      ]
    },
    {
      "cell_type": "code",
      "metadata": {
        "id": "fVomR9OClGM2"
      },
      "source": [
        "def segmentoMaximoK(arreglo, inicio, fin):\n",
        "    # Iniciamos los estados. La idea genial de este algoritmo es considerar 2 estados distintos:\n",
        "    # - La suma máxima hasta ahora, y\n",
        "    # - La suma de los últimos elementos de la lista (el sufijo)\n",
        "    max_sum = 0\n",
        "    i_max, j_max = 0, -1\n",
        "    \n",
        "    suma_sufijo = 0\n",
        "    i_sufijo = 0\n",
        "    for j in range(fin):\n",
        "        # En este caso, suma_sufijo + arreglo[0] ya dio negativo. Si nos quedamos con este sufijo, y luego\n",
        "        # viene un número positivo (digamos, 10), nos conviene más descartar el sufijo negativo, y partir\n",
        "        # contando recién desde el 10\n",
        "        if suma_sufijo + arreglo[j] < 0:\n",
        "            suma_sufijo = 0\n",
        "            i_sufijo = j+1\n",
        "            continue\n",
        "        # En este caso, suma_sufijo + arreglo[0] >= 0 (es decir, este sufijo nos sigue sirviendo.\n",
        "        # Puede ser que no le gane al maximo que tenemos, pero siendo positivo, el siguiente elemento\n",
        "        # podría ser un número alto (digamos, 100), así que \"todo suma\" para intentar ganarle al `max_sum`)\n",
        "        suma_sufijo += arreglo[j]\n",
        "        if suma_sufijo > max_sum:\n",
        "            max_sum = suma_sufijo\n",
        "            i_max, j_max = i_sufijo, j\n",
        "    return max_sum, i_max, j_max"
      ],
      "execution_count": 8,
      "outputs": []
    },
    {
      "cell_type": "markdown",
      "metadata": {
        "id": "WhuR-qN1lGM6"
      },
      "source": [
        "### Función solicitada"
      ]
    },
    {
      "cell_type": "code",
      "metadata": {
        "id": "orMtwPtolGM7"
      },
      "source": [
        "arr1 = [-1, -4, 5, -1, -4, 1, -6, -3]\n",
        "arr2 = [-2, 1, -3, 4, -1, 2, 1, -5, 4]\n",
        "arr3 = [-5, -6, -7, -8, -9, -10]\n",
        "\n",
        "def segmentoMaximo(arreglo, algoritmo='n'):\n",
        "    if algoritmo == 'n2':\n",
        "        suma, i, j = segmentoMaximoQ(arreglo)\n",
        "    elif algoritmo == 'nlogn':\n",
        "        suma, i, j = segmentoMaximoD(arreglo, 0, len(arreglo))\n",
        "    elif algoritmo == 'n':\n",
        "        suma, i, j = segmentoMaximoK(arreglo, 0, len(arreglo))\n",
        "    else:\n",
        "        raise Exception('Algoritmo debe ser \"n2\", \"nlogn\" o \"n\"')\n",
        "    j+=1 #  <- (***) Ojo aquí (ver más abajo)\n",
        "    print(f'Suma: {suma} | i: {i} | j: {j} | arreglo: {arreglo[i:j]}')"
      ],
      "execution_count": 6,
      "outputs": []
    },
    {
      "cell_type": "code",
      "metadata": {
        "id": "D2I_kMFzlGM8",
        "colab": {
          "base_uri": "https://localhost:8080/"
        },
        "outputId": "ec125305-af5b-428d-f924-ef11d0e997c9"
      },
      "source": [
        "segmentoMaximo(arr1, 'n2')\n",
        "segmentoMaximo(arr1, 'nlogn')\n",
        "segmentoMaximo(arr1, 'n')"
      ],
      "execution_count": 9,
      "outputs": [
        {
          "output_type": "stream",
          "text": [
            "Suma: 5 | i: 2 | j: 3 | arreglo: [5]\n",
            "Suma: 5 | i: 2 | j: 3 | arreglo: [5]\n",
            "Suma: 5 | i: 2 | j: 3 | arreglo: [5]\n"
          ],
          "name": "stdout"
        }
      ]
    },
    {
      "cell_type": "code",
      "metadata": {
        "id": "X2-1W8oSlGM_",
        "colab": {
          "base_uri": "https://localhost:8080/"
        },
        "outputId": "709f6a60-f545-4ab3-dff6-21eddd78597f"
      },
      "source": [
        "segmentoMaximo(arr2, 'n2')\n",
        "segmentoMaximo(arr2, 'nlogn')\n",
        "segmentoMaximo(arr2, 'n')"
      ],
      "execution_count": 11,
      "outputs": [
        {
          "output_type": "stream",
          "text": [
            "Suma: 6 | i: 3 | j: 7 | arreglo: [4, -1, 2, 1]\n",
            "Suma: 6 | i: 3 | j: 7 | arreglo: [4, -1, 2, 1]\n",
            "Suma: 6 | i: 3 | j: 7 | arreglo: [4, -1, 2, 1]\n"
          ],
          "name": "stdout"
        }
      ]
    },
    {
      "cell_type": "code",
      "metadata": {
        "id": "CHP8tpkIlGNA",
        "colab": {
          "base_uri": "https://localhost:8080/"
        },
        "outputId": "f0a8f337-bac8-480d-8efe-97afae919e8e"
      },
      "source": [
        "segmentoMaximo(arr3, 'n2')\n",
        "segmentoMaximo(arr3, 'nlogn')\n",
        "segmentoMaximo(arr3, 'n')"
      ],
      "execution_count": 12,
      "outputs": [
        {
          "output_type": "stream",
          "text": [
            "Suma: 0 | i: 0 | j: 0 | arreglo: []\n",
            "Suma: 0 | i: 0 | j: 0 | arreglo: []\n",
            "Suma: 0 | i: 0 | j: 0 | arreglo: []\n"
          ],
          "name": "stdout"
        }
      ]
    },
    {
      "cell_type": "code",
      "metadata": {
        "id": "4g7QXGY7lGNB",
        "colab": {
          "base_uri": "https://localhost:8080/"
        },
        "outputId": "a752f037-cd85-43b7-9296-c0e79ab44240"
      },
      "source": [
        "arreglo_largo = arr1*100 + arr2 + arr1*100\n",
        "print(f'Largo del arreglo largo: {len(arreglo_largo)}')\n",
        "\n",
        "print('\\nAlgoritmo n^2')\n",
        "%time segmentoMaximo(arreglo_largo, 'n2')\n",
        "\n",
        "print('\\nAlgoritmo nlogn')\n",
        "%time segmentoMaximo(arreglo_largo, 'nlogn')\n",
        "\n",
        "print('\\nAlgoritmo n')\n",
        "%time segmentoMaximo(arreglo_largo, 'n')"
      ],
      "execution_count": 13,
      "outputs": [
        {
          "output_type": "stream",
          "text": [
            "Largo del arreglo largo: 1609\n",
            "\n",
            "Algoritmo n^2\n",
            "Suma: 6 | i: 803 | j: 807 | arreglo: [4, -1, 2, 1]\n",
            "CPU times: user 146 ms, sys: 0 ns, total: 146 ms\n",
            "Wall time: 150 ms\n",
            "\n",
            "Algoritmo nlogn\n",
            "Suma: 6 | i: 803 | j: 807 | arreglo: [4, -1, 2, 1]\n",
            "CPU times: user 5.61 ms, sys: 0 ns, total: 5.61 ms\n",
            "Wall time: 5.45 ms\n",
            "\n",
            "Algoritmo n\n",
            "Suma: 6 | i: 803 | j: 807 | arreglo: [4, -1, 2, 1]\n",
            "CPU times: user 324 µs, sys: 0 ns, total: 324 µs\n",
            "Wall time: 328 µs\n"
          ],
          "name": "stdout"
        }
      ]
    },
    {
      "cell_type": "markdown",
      "metadata": {
        "id": "5Ua4E1GrlGNB"
      },
      "source": [
        "En mi computador, el tiempo que tomó cada algoritmo (*Wall time*) fue:\n",
        "\n",
        "| Algoritmo  | Tiempo   |\n",
        "|------------|----------|\n",
        "| $n^2$      | 105 ms   |\n",
        "| $n\\log(n)$ | 2,84 ms  |\n",
        "| $n$        | 175 $\\mu$s = 0,175 ms |"
      ]
    },
    {
      "cell_type": "code",
      "metadata": {
        "id": "wNllz-9IlGNC",
        "colab": {
          "base_uri": "https://localhost:8080/"
        },
        "outputId": "a3bb0123-7def-4f36-f251-0004fb391037"
      },
      "source": [
        "print(f'Largo del arreglo más largo: {len(arreglo_largo)*10}')\n",
        "print('\\nAlgoritmo n^2 [va a tardar un par de segundos]')\n",
        "%time segmentoMaximo(arreglo_largo*10, 'n2')\n",
        "\n",
        "print('\\nAlgoritmo nlogn')\n",
        "%time segmentoMaximo(arreglo_largo*10, 'nlogn')\n",
        "\n",
        "print('\\nAlgoritmo n')\n",
        "%time segmentoMaximo(arreglo_largo*10, 'n')"
      ],
      "execution_count": 14,
      "outputs": [
        {
          "output_type": "stream",
          "text": [
            "Largo del arreglo más largo: 16090\n",
            "\n",
            "Algoritmo n^2 [va a tardar un par de segundos]\n",
            "Suma: 6 | i: 803 | j: 807 | arreglo: [4, -1, 2, 1]\n",
            "CPU times: user 14.1 s, sys: 11.2 ms, total: 14.1 s\n",
            "Wall time: 14.2 s\n",
            "\n",
            "Algoritmo nlogn\n",
            "Suma: 6 | i: 803 | j: 807 | arreglo: [4, -1, 2, 1]\n",
            "CPU times: user 57 ms, sys: 0 ns, total: 57 ms\n",
            "Wall time: 56.7 ms\n",
            "\n",
            "Algoritmo n\n",
            "Suma: 6 | i: 803 | j: 807 | arreglo: [4, -1, 2, 1]\n",
            "CPU times: user 2.96 ms, sys: 0 ns, total: 2.96 ms\n",
            "Wall time: 2.96 ms\n"
          ],
          "name": "stdout"
        }
      ]
    },
    {
      "cell_type": "markdown",
      "metadata": {
        "id": "9i4G1qKjlGNC"
      },
      "source": [
        "### (***) Comentario sobre el `j+=1`"
      ]
    },
    {
      "cell_type": "markdown",
      "metadata": {
        "id": "gbbdPqHmlGND"
      },
      "source": [
        "Se pueden extraer los subarreglos (*slices*) de listas de Python con la notación `arreglo[inicio:fin]`.\n",
        "Pero comparémoslo con extraer un elemento de una lista `arreglo[posicion]`:"
      ]
    },
    {
      "cell_type": "code",
      "metadata": {
        "id": "q7TQB2pllGND",
        "colab": {
          "base_uri": "https://localhost:8080/"
        },
        "outputId": "7962b497-9b83-4047-891e-8c01afefdac1"
      },
      "source": [
        "arreglo_prueba = [10,20,30,40,50]\n",
        "print(arreglo_prueba[4])\n",
        "print(arreglo_prueba[1:4])"
      ],
      "execution_count": 15,
      "outputs": [
        {
          "output_type": "stream",
          "text": [
            "50\n",
            "[20, 30, 40]\n"
          ],
          "name": "stdout"
        }
      ]
    },
    {
      "cell_type": "markdown",
      "metadata": {
        "id": "EEbZUqhjlGND"
      },
      "source": [
        "En Python, la notación `arreglo[inicio:fin]` excluye al elemento en la posición `fin`.\n",
        "Sin embargo, observemos cómo están programadas las funciones `segmentoMaximo{Q,D,K}`:\n",
        "```python\n",
        "max_sum = 0\n",
        "max_i, max_j = 0, -1\n",
        "for i in range(len(arreglo)):\n",
        "    subsuma = 0\n",
        "    for j in range(i, len(arreglo)):\n",
        "        subsuma += arreglo[j]    # considerando el elemento j\n",
        "        if subsuma > max_sum:    # este subarreglo es el maximo\n",
        "            max_sum = subsuma\n",
        "            max_i, max_j = i, j  # actalizamos estos subindices\n",
        "```\n",
        "Las funciones retornan los índices `i` y `j` considerando todos los elementos del subarreglo, incluyendo `j`. Así que si queremos obtener el resultado con `arreglo[i:j]`, tenemos dos opciones:\n",
        "1. Actualizar haciendo `max_i, max_j = i, j+1` o Retornar `max_sum, max_i, max_j+1` (dentro de la función).\n",
        "2. Incrementar `j` después de retornado (fuera de la función).\n",
        "\n",
        "Esto es una decisión de implementación. Puede haber argumentos a favor de 1. y de 2., pero siempre va a haber alguien molesto."
      ]
    }
  ]
}